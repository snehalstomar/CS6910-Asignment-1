{
  "nbformat": 4,
  "nbformat_minor": 0,
  "metadata": {
    "colab": {
      "name": "Untitled3.ipynb",
      "provenance": [],
      "authorship_tag": "ABX9TyPYtaFan1pT26vKF7axyxM/"
    },
    "kernelspec": {
      "name": "python3",
      "display_name": "Python 3"
    }
  },
  "cells": [
    {
      "cell_type": "code",
      "metadata": {
        "id": "m21zKQ6aBb-q"
      },
      "source": [
        "import numpy as np\r\n",
        "import pandas as pd"
      ],
      "execution_count": 1,
      "outputs": []
    },
    {
      "cell_type": "code",
      "metadata": {
        "id": "GWo1IboOBe6m"
      },
      "source": [
        "def momemtum_grad_descent(W,B,grad_W,grad_B,eta,gamma,prev_w = 0,prev_b = 0):\r\n",
        "  \r\n",
        "  \r\n",
        "  l = len(W)\r\n",
        "  for i in range(l):\r\n",
        "    grad_W['w'+ str(i)]  = gamma * prev_w + eta * grad_W['w'+str(i)]      #updates\r\n",
        "    grad_B['b' + str(i)] = gamma * prev_b + eta * grad_B['b'+str(i)]\r\n",
        "    \r\n",
        "    W['w' + str(i)] = W['w' + str(i)] - grad_W['w'+ str(i)]\r\n",
        "    B['b'+str(i)] =  B['b'+str(i)] - grad_B['b'+str(i)]\r\n",
        "\r\n",
        "    prev_w['pw' + str(i)] = grad_W['w'+ str(i)]\r\n",
        "    prev_b['pb' + str(i)] = grad_B['b' + str(i)]\r\n",
        "\r\n",
        "    return W,B,prev_w,prev_b\r\n"
      ],
      "execution_count": 2,
      "outputs": []
    },
    {
      "cell_type": "code",
      "metadata": {
        "id": "w8zrdEtxO08V"
      },
      "source": [
        "def grad_descent(W,B,grad_W,grad_B,eta):\r\n",
        "  W,B,grad_W,grad_B = momentum_grad_descent(W,B,grad_W,grad_B,eta,0,0,0)\r\n",
        "  return W,B,grad_W,grad_B\r\n",
        "\r\n"
      ],
      "execution_count": 3,
      "outputs": []
    },
    {
      "cell_type": "code",
      "metadata": {
        "id": "nXNoeMTzPrR8"
      },
      "source": [
        ""
      ],
      "execution_count": 10,
      "outputs": []
    },
    {
      "cell_type": "code",
      "metadata": {
        "id": "0NIR6VpMP65Z"
      },
      "source": [
        ""
      ],
      "execution_count": null,
      "outputs": []
    }
  ]
}